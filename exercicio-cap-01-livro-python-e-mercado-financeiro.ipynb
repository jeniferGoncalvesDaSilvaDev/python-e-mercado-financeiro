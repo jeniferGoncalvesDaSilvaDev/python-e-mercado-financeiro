{
  "nbformat": 4,
  "nbformat_minor": 0,
  "metadata": {
    "colab": {
      "provenance": [],
      "authorship_tag": "ABX9TyO+ciguvaRwk2YXESvVcdAW",
      "include_colab_link": true
    },
    "kernelspec": {
      "name": "python3",
      "display_name": "Python 3"
    },
    "language_info": {
      "name": "python"
    }
  },
  "cells": [
    {
      "cell_type": "markdown",
      "metadata": {
        "id": "view-in-github",
        "colab_type": "text"
      },
      "source": [
        "<a href=\"https://colab.research.google.com/github/jeniferGoncalvesDaSilvaDev/python-e-mercado-financeiro/blob/main/exercicio-cap-01-livro-python-e-mercado-financeiro.ipynb\" target=\"_parent\"><img src=\"https://colab.research.google.com/assets/colab-badge.svg\" alt=\"Open In Colab\"/></a>"
      ]
    },
    {
      "cell_type": "code",
      "execution_count": 12,
      "metadata": {
        "colab": {
          "base_uri": "https://localhost:8080/"
        },
        "id": "jBMCIpoJguCP",
        "outputId": "b9e165e3-d994-4d71-b77d-5f9e5dac5656"
      },
      "outputs": [
        {
          "output_type": "stream",
          "name": "stdout",
          "text": [
            "[10, 20, 56, 14, 7498, 1123, 69, 47, 120, 1774, 5698]\n",
            "1493.55\n",
            "69.00\n",
            "10.00\n",
            "2618.84\n",
            "2496.96\n"
          ]
        }
      ],
      "source": [
        "#estatistica basica\n",
        "import statistics as sp\n",
        "import math\n",
        "precos=[10,20,56,14,7498,1123,69,47,120,1774,5698]\n",
        "media = sp.mean(precos)\n",
        "mediana=sp.median(precos)\n",
        "moda=sp.mode(precos)\n",
        "#desvio padrao da amostra- pu desvio padrao amostral\n",
        "desvio_padrao=sp.stdev(precos)\n",
        "#desvio padrao da poplucao-ou pupulacional\n",
        "desvio_padrao_p= sp.pstdev(precos)\n",
        "print(precos)\n",
        "print(f'{media:.2f}')\n",
        "print(f'{mediana:.2f}')\n",
        "print(f'{moda:.2f}')\n",
        "print(f'{desvio_padrao:.2f}')\n",
        "print(f'{desvio_padrao_p:.2f}')"
      ]
    },
    {
      "cell_type": "code",
      "source": [
        "#fazendo os exercicios do livro Python e Mercado Finaceiro\n",
        "#a - y = 4**3 - 2**2\n",
        "y = math.pow(4,3) - math.pow(2,2)\n",
        "print(f'{y:.2f}')"
      ],
      "metadata": {
        "colab": {
          "base_uri": "https://localhost:8080/"
        },
        "id": "VeP4HuGikmXF",
        "outputId": "0417f78e-5ffc-4886-b752-1a6055fddcd6"
      },
      "execution_count": 15,
      "outputs": [
        {
          "output_type": "stream",
          "name": "stdout",
          "text": [
            "60.00\n"
          ]
        }
      ]
    },
    {
      "cell_type": "code",
      "source": [
        "#b - x= sen(2) - cos(4.2)\n",
        "x = math.sin(2) - math.cos(4.2)\n",
        "print(f'{x:.2f}')"
      ],
      "metadata": {
        "colab": {
          "base_uri": "https://localhost:8080/"
        },
        "id": "892TGoPKlh4f",
        "outputId": "16f3b3d0-d790-4b54-808b-15f4c5bb39ff"
      },
      "execution_count": 16,
      "outputs": [
        {
          "output_type": "stream",
          "name": "stdout",
          "text": [
            "1.40\n"
          ]
        }
      ]
    },
    {
      "cell_type": "code",
      "source": [
        "#c - z = cos(sen(3.7) - tan(1.3))\n",
        "#i - inicio\n",
        "#f - final\n",
        "z_i= math.sin(3.7) - math.tan(1.3)\n",
        "print(f'{z_i:.2f}')\n",
        "z_f = math.cos(z_i)\n",
        "print(f'{z_f:.2f}')"
      ],
      "metadata": {
        "colab": {
          "base_uri": "https://localhost:8080/"
        },
        "id": "r_HFUcJymDvv",
        "outputId": "00061e17-059d-4b63-f594-e238c28d12a7"
      },
      "execution_count": 17,
      "outputs": [
        {
          "output_type": "stream",
          "name": "stdout",
          "text": [
            "-4.13\n",
            "-0.55\n"
          ]
        }
      ]
    },
    {
      "cell_type": "code",
      "source": [
        "#d - resto de 26 por 4\n",
        "resto = 26 %4\n",
        "print(resto)"
      ],
      "metadata": {
        "colab": {
          "base_uri": "https://localhost:8080/"
        },
        "id": "DSTREjonnBZo",
        "outputId": "6bad2934-f38b-4fe5-a486-6367ce906c69"
      },
      "execution_count": 18,
      "outputs": [
        {
          "output_type": "stream",
          "name": "stdout",
          "text": [
            "2\n"
          ]
        }
      ]
    },
    {
      "cell_type": "code",
      "source": [
        "#e - converter 46.2 graus para radianos\n",
        "angulo = 46.2\n",
        "angulo_para_radiano = math.radians(angulo)\n",
        "print(f'{angulo_para_radiano:.2f}')"
      ],
      "metadata": {
        "colab": {
          "base_uri": "https://localhost:8080/"
        },
        "id": "V9GjCCgTnVWf",
        "outputId": "b57f53c1-b9a3-41f4-8ac7-cebbc75dcd91"
      },
      "execution_count": 20,
      "outputs": [
        {
          "output_type": "stream",
          "name": "stdout",
          "text": [
            "0.81\n"
          ]
        }
      ]
    },
    {
      "cell_type": "code",
      "source": [
        "#f - converter 3.1 rad para graus\n",
        "radiano = 3.1\n",
        "radiano_para_graus = math.degrees(radiano)\n",
        "print(f'{radiano_para_graus:.2f}')"
      ],
      "metadata": {
        "colab": {
          "base_uri": "https://localhost:8080/"
        },
        "id": "bAjOoFFRn88I",
        "outputId": "073ced8b-1d5c-4fc7-c48c-21a7f74b35d1"
      },
      "execution_count": 21,
      "outputs": [
        {
          "output_type": "stream",
          "name": "stdout",
          "text": [
            "177.62\n"
          ]
        }
      ]
    },
    {
      "cell_type": "code",
      "source": [
        "# exercicio 02\n",
        "# assumir como constante\n",
        "x =3\n",
        "y =6\n",
        "#a - w = e**x -ln(y)\n",
        "euler = math.e\n",
        "#print(euler)\n",
        "#ln = math.log1p(6)\n",
        "#print(ln)\n",
        "w = math.pow(euler, x) - math.log1p(y)\n",
        "print(f'{w:.2f}')"
      ],
      "metadata": {
        "colab": {
          "base_uri": "https://localhost:8080/"
        },
        "id": "h3vI-G7BoUtP",
        "outputId": "75b5cb3b-c245-44a9-9916-fec7ef2acf17"
      },
      "execution_count": 26,
      "outputs": [
        {
          "output_type": "stream",
          "name": "stdout",
          "text": [
            "18.14\n"
          ]
        }
      ]
    },
    {
      "cell_type": "code",
      "source": [
        "#b - z = x * y**2 + y *cos(x)\n",
        "z_inicio = x * math.pow(y,2)\n",
        "print(f'{z_inicio:.2f}')\n",
        "z_final = y * math.cos(x)\n",
        "print(f'{z_final:.2f}')\n",
        "z_soma = z_inicio + z_final\n",
        "print(f'{z_soma:.2f}')"
      ],
      "metadata": {
        "colab": {
          "base_uri": "https://localhost:8080/"
        },
        "id": "XlYk_0AeqSyC",
        "outputId": "2efe9024-5908-4da6-b887-9ed4341e1498"
      },
      "execution_count": 28,
      "outputs": [
        {
          "output_type": "stream",
          "name": "stdout",
          "text": [
            "108.00\n",
            "-5.94\n",
            "102.06\n"
          ]
        }
      ]
    },
    {
      "cell_type": "code",
      "source": [
        "#(c) s = raiz quadrada (x/y + ln(x+ y) +tan(x))\n",
        "soma_x_y = x + y\n",
        "print(soma_x_y)\n",
        "ln_x_y = math.log1p(soma_x_y)\n",
        "print(ln_x_y)\n",
        "tan_x = math.tan(x)\n",
        "print(tan_x)\n",
        "divisao_x_y = x/y\n",
        "print(divisao_x_y)\n",
        "soma_total = divisao_x_y + ln_x_y + tan_x\n",
        "print(soma_total)\n",
        "raiz_quadrada= math.sqrt(soma_total)\n",
        "print(raiz_quadrada)"
      ],
      "metadata": {
        "colab": {
          "base_uri": "https://localhost:8080/"
        },
        "id": "F_eK6F5JrVfl",
        "outputId": "0168905a-3a18-4c16-b4fa-cb7f19cbfbef"
      },
      "execution_count": 30,
      "outputs": [
        {
          "output_type": "stream",
          "name": "stdout",
          "text": [
            "9\n",
            "2.302585092994046\n",
            "-0.1425465430742778\n",
            "0.5\n",
            "2.660038549919768\n",
            "1.6309624612233624\n"
          ]
        }
      ]
    }
  ]
}