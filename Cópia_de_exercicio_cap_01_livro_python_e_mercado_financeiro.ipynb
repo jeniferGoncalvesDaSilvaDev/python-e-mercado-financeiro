{
  "nbformat": 4,
  "nbformat_minor": 0,
  "metadata": {
    "colab": {
      "provenance": [],
      "include_colab_link": true
    },
    "kernelspec": {
      "name": "python3",
      "display_name": "Python 3"
    },
    "language_info": {
      "name": "python"
    }
  },
  "cells": [
    {
      "cell_type": "markdown",
      "metadata": {
        "id": "view-in-github",
        "colab_type": "text"
      },
      "source": [
        "<a href=\"https://colab.research.google.com/github/jeniferGoncalvesDaSilvaDev/python-e-mercado-financeiro/blob/main/C%C3%B3pia_de_exercicio_cap_01_livro_python_e_mercado_financeiro.ipynb\" target=\"_parent\"><img src=\"https://colab.research.google.com/assets/colab-badge.svg\" alt=\"Open In Colab\"/></a>"
      ]
    },
    {
      "cell_type": "code",
      "execution_count": 38,
      "metadata": {
        "colab": {
          "base_uri": "https://localhost:8080/"
        },
        "id": "jBMCIpoJguCP",
        "outputId": "af4e3db2-025f-401d-9838-0864a81cf04c"
      },
      "outputs": [
        {
          "output_type": "stream",
          "name": "stdout",
          "text": [
            "[10, 20, 56, 14, 7498, 1123, 69, 47, 120, 1774, 5698]\n",
            "1493.55\n",
            "69.00\n",
            "10.00\n",
            "2618.84\n",
            "2496.96\n"
          ]
        }
      ],
      "source": [
        "#estatistica basica\n",
        "import statistics as sp\n",
        "import math\n",
        "import numpy as np\n",
        "precos=[10,20,56,14,7498,1123,69,47,120,1774,5698]\n",
        "media = sp.mean(precos)\n",
        "mediana=sp.median(precos)\n",
        "moda=sp.mode(precos)\n",
        "#desvio padrao da amostra- pu desvio padrao amostral\n",
        "desvio_padrao=sp.stdev(precos)\n",
        "#desvio padrao da poplucao-ou pupulacional\n",
        "desvio_padrao_p= sp.pstdev(precos)\n",
        "print(precos)\n",
        "print(f'{media:.2f}')\n",
        "print(f'{mediana:.2f}')\n",
        "print(f'{moda:.2f}')\n",
        "print(f'{desvio_padrao:.2f}')\n",
        "print(f'{desvio_padrao_p:.2f}')"
      ]
    },
    {
      "cell_type": "code",
      "source": [
        "#fazendo os exercicios do livro Python e Mercado Finaceiro\n",
        "#a - y = 4**3 - 2**2\n",
        "y = math.pow(4,3) - math.pow(2,2)\n",
        "print(f'{y:.2f}')"
      ],
      "metadata": {
        "colab": {
          "base_uri": "https://localhost:8080/"
        },
        "id": "VeP4HuGikmXF",
        "outputId": "0417f78e-5ffc-4886-b752-1a6055fddcd6"
      },
      "execution_count": null,
      "outputs": [
        {
          "output_type": "stream",
          "name": "stdout",
          "text": [
            "60.00\n"
          ]
        }
      ]
    },
    {
      "cell_type": "code",
      "source": [
        "#b - x= sen(2) - cos(4.2)\n",
        "x = math.sin(2) - math.cos(4.2)\n",
        "print(f'{x:.2f}')"
      ],
      "metadata": {
        "colab": {
          "base_uri": "https://localhost:8080/"
        },
        "id": "892TGoPKlh4f",
        "outputId": "16f3b3d0-d790-4b54-808b-15f4c5bb39ff"
      },
      "execution_count": null,
      "outputs": [
        {
          "output_type": "stream",
          "name": "stdout",
          "text": [
            "1.40\n"
          ]
        }
      ]
    },
    {
      "cell_type": "code",
      "source": [
        "#c - z = cos(sen(3.7) - tan(1.3))\n",
        "#i - inicio\n",
        "#f - final\n",
        "z_i= math.sin(3.7) - math.tan(1.3)\n",
        "print(f'{z_i:.2f}')\n",
        "z_f = math.cos(z_i)\n",
        "print(f'{z_f:.2f}')"
      ],
      "metadata": {
        "colab": {
          "base_uri": "https://localhost:8080/"
        },
        "id": "r_HFUcJymDvv",
        "outputId": "00061e17-059d-4b63-f594-e238c28d12a7"
      },
      "execution_count": null,
      "outputs": [
        {
          "output_type": "stream",
          "name": "stdout",
          "text": [
            "-4.13\n",
            "-0.55\n"
          ]
        }
      ]
    },
    {
      "cell_type": "code",
      "source": [
        "#d - resto de 26 por 4\n",
        "resto = 26 %4\n",
        "print(resto)"
      ],
      "metadata": {
        "colab": {
          "base_uri": "https://localhost:8080/"
        },
        "id": "DSTREjonnBZo",
        "outputId": "6bad2934-f38b-4fe5-a486-6367ce906c69"
      },
      "execution_count": null,
      "outputs": [
        {
          "output_type": "stream",
          "name": "stdout",
          "text": [
            "2\n"
          ]
        }
      ]
    },
    {
      "cell_type": "code",
      "source": [
        "#e - converter 46.2 graus para radianos\n",
        "angulo = 46.2\n",
        "angulo_para_radiano = math.radians(angulo)\n",
        "print(f'{angulo_para_radiano:.2f}')"
      ],
      "metadata": {
        "colab": {
          "base_uri": "https://localhost:8080/"
        },
        "id": "V9GjCCgTnVWf",
        "outputId": "b57f53c1-b9a3-41f4-8ac7-cebbc75dcd91"
      },
      "execution_count": null,
      "outputs": [
        {
          "output_type": "stream",
          "name": "stdout",
          "text": [
            "0.81\n"
          ]
        }
      ]
    },
    {
      "cell_type": "code",
      "source": [
        "#f - converter 3.1 rad para graus\n",
        "radiano = 3.1\n",
        "radiano_para_graus = math.degrees(radiano)\n",
        "print(f'{radiano_para_graus:.2f}')"
      ],
      "metadata": {
        "colab": {
          "base_uri": "https://localhost:8080/"
        },
        "id": "bAjOoFFRn88I",
        "outputId": "073ced8b-1d5c-4fc7-c48c-21a7f74b35d1"
      },
      "execution_count": null,
      "outputs": [
        {
          "output_type": "stream",
          "name": "stdout",
          "text": [
            "177.62\n"
          ]
        }
      ]
    },
    {
      "cell_type": "code",
      "source": [
        "# exercicio 02\n",
        "# assumir como constante\n",
        "x =3\n",
        "y =6\n",
        "#a - w = e**x -ln(y)\n",
        "euler = math.e\n",
        "#print(euler)\n",
        "#ln = math.log1p(6)\n",
        "#print(ln)\n",
        "w = math.pow(euler, x) - math.log1p(y)\n",
        "print(f'{w:.2f}')"
      ],
      "metadata": {
        "colab": {
          "base_uri": "https://localhost:8080/"
        },
        "id": "h3vI-G7BoUtP",
        "outputId": "75b5cb3b-c245-44a9-9916-fec7ef2acf17"
      },
      "execution_count": null,
      "outputs": [
        {
          "output_type": "stream",
          "name": "stdout",
          "text": [
            "18.14\n"
          ]
        }
      ]
    },
    {
      "cell_type": "code",
      "source": [
        "#b - z = x * y**2 + y *cos(x)\n",
        "z_inicio = x * math.pow(y,2)\n",
        "print(f'{z_inicio:.2f}')\n",
        "z_final = y * math.cos(x)\n",
        "print(f'{z_final:.2f}')\n",
        "z_soma = z_inicio + z_final\n",
        "print(f'{z_soma:.2f}')"
      ],
      "metadata": {
        "colab": {
          "base_uri": "https://localhost:8080/"
        },
        "id": "XlYk_0AeqSyC",
        "outputId": "2efe9024-5908-4da6-b887-9ed4341e1498"
      },
      "execution_count": null,
      "outputs": [
        {
          "output_type": "stream",
          "name": "stdout",
          "text": [
            "108.00\n",
            "-5.94\n",
            "102.06\n"
          ]
        }
      ]
    },
    {
      "cell_type": "markdown",
      "source": [],
      "metadata": {
        "id": "vqksN7MwJEKj"
      }
    },
    {
      "cell_type": "code",
      "source": [
        "#(c) s = raiz quadrada (x/y + ln(x+ y) +tan(x))\n",
        "soma_x_y = x + y\n",
        "print(soma_x_y)\n",
        "ln_x_y = math.log1p(soma_x_y)\n",
        "print(ln_x_y)\n",
        "tan_x = math.tan(x)\n",
        "print(tan_x)\n",
        "divisao_x_y = x/y\n",
        "print(divisao_x_y)\n",
        "soma_total = divisao_x_y + ln_x_y + tan_x\n",
        "print(soma_total)\n",
        "raiz_quadrada= math.sqrt(soma_total)\n",
        "print(raiz_quadrada)"
      ],
      "metadata": {
        "colab": {
          "base_uri": "https://localhost:8080/"
        },
        "id": "F_eK6F5JrVfl",
        "outputId": "0168905a-3a18-4c16-b4fa-cb7f19cbfbef"
      },
      "execution_count": null,
      "outputs": [
        {
          "output_type": "stream",
          "name": "stdout",
          "text": [
            "9\n",
            "2.302585092994046\n",
            "-0.1425465430742778\n",
            "0.5\n",
            "2.660038549919768\n",
            "1.6309624612233624\n"
          ]
        }
      ]
    },
    {
      "cell_type": "markdown",
      "source": [
        "Terceiro exercício do livro"
      ],
      "metadata": {
        "id": "ukp4cDhwJIFk"
      }
    },
    {
      "cell_type": "code",
      "source": [
        "num =[3,3,4,1,2,1,1,2,3,1,1,2,4,4,1,1,5,2]\n",
        "print(num)"
      ],
      "metadata": {
        "id": "m8m2j2h1JLjU",
        "outputId": "c590f574-c88c-4f80-ed24-8b13342206d3",
        "colab": {
          "base_uri": "https://localhost:8080/"
        }
      },
      "execution_count": null,
      "outputs": [
        {
          "output_type": "stream",
          "name": "stdout",
          "text": [
            "[3, 3, 4, 1, 2, 1, 1, 2, 3, 1, 1, 2, 4, 4, 1, 1, 5, 2]\n"
          ]
        }
      ]
    },
    {
      "cell_type": "code",
      "source": [
        "#fatiar do elemento 2 até o elemento 5\n",
        "num_1=num[2:7]\n",
        "print(num_1)"
      ],
      "metadata": {
        "id": "D8SJzhzmJbgT",
        "outputId": "c7fe20b7-9a59-41e8-e2e2-b51656e25426",
        "colab": {
          "base_uri": "https://localhost:8080/"
        }
      },
      "execution_count": null,
      "outputs": [
        {
          "output_type": "stream",
          "name": "stdout",
          "text": [
            "[4, 1, 2, 1, 1]\n"
          ]
        }
      ]
    },
    {
      "cell_type": "code",
      "source": [
        "#fatiar do 5 elemento até o 9 elemento\n",
        "num_2=num[5:10]\n",
        "print(num_2)"
      ],
      "metadata": {
        "id": "ogqNoBMQJtbp",
        "outputId": "3b6fe10e-cb50-42e3-d9f1-ce2f848f862f",
        "colab": {
          "base_uri": "https://localhost:8080/"
        }
      },
      "execution_count": null,
      "outputs": [
        {
          "output_type": "stream",
          "name": "stdout",
          "text": [
            "[1, 1, 2, 3, 1]\n"
          ]
        }
      ]
    },
    {
      "cell_type": "code",
      "source": [
        "#fatiar do índice 1 até último\n",
        "num_3=num[1:]\n",
        "print(num_3)"
      ],
      "metadata": {
        "colab": {
          "base_uri": "https://localhost:8080/"
        },
        "id": "Jh2eTwQqLZU_",
        "outputId": "6f745337-d571-44c1-923c-6703fe31a506"
      },
      "execution_count": null,
      "outputs": [
        {
          "output_type": "stream",
          "name": "stdout",
          "text": [
            "[3, 4, 1, 2, 1, 1, 2, 3, 1, 1, 2, 4, 4, 1, 1, 5, 2]\n"
          ]
        }
      ]
    },
    {
      "cell_type": "code",
      "source": [
        "#fatiar do 1 elemento até o último, pulando de 3 em 3\n",
        "num_4=num[0::3]\n",
        "print(num_4)"
      ],
      "metadata": {
        "colab": {
          "base_uri": "https://localhost:8080/"
        },
        "id": "g6luO2-kMDFo",
        "outputId": "11c9a6f5-565a-41fa-8e39-1eaba18f8270"
      },
      "execution_count": null,
      "outputs": [
        {
          "output_type": "stream",
          "name": "stdout",
          "text": [
            "[3, 1, 1, 1, 4, 1]\n"
          ]
        }
      ]
    },
    {
      "cell_type": "code",
      "source": [
        "#selecionar o último elemento\n",
        "num_5=num[-1]\n",
        "print(num_5)"
      ],
      "metadata": {
        "colab": {
          "base_uri": "https://localhost:8080/"
        },
        "id": "F_xDHD2DMTZj",
        "outputId": "a918d7d4-7dd9-4450-88b4-71072663d9ec"
      },
      "execution_count": null,
      "outputs": [
        {
          "output_type": "stream",
          "name": "stdout",
          "text": [
            "2\n"
          ]
        }
      ]
    },
    {
      "cell_type": "code",
      "source": [
        "#selecionar os 3 últimos elementos da lista\n",
        "num_6=num[-3:]\n",
        "print(num_6)"
      ],
      "metadata": {
        "colab": {
          "base_uri": "https://localhost:8080/"
        },
        "id": "DINrMwgiMedS",
        "outputId": "6849520b-19b3-4b81-b75c-0de8c3a8bef4"
      },
      "execution_count": null,
      "outputs": [
        {
          "output_type": "stream",
          "name": "stdout",
          "text": [
            "[1, 5, 2]\n"
          ]
        }
      ]
    },
    {
      "cell_type": "code",
      "source": [
        "#selecionar os 4 primeiros elementos da lista\n",
        "num_7=num[:4]\n",
        "print(num_7)"
      ],
      "metadata": {
        "colab": {
          "base_uri": "https://localhost:8080/"
        },
        "id": "pDnbR8pmMrvy",
        "outputId": "6b2a883d-f6f8-47dc-bb4e-9a64b6fe0484"
      },
      "execution_count": null,
      "outputs": [
        {
          "output_type": "stream",
          "name": "stdout",
          "text": [
            "[3, 3, 4, 1]\n"
          ]
        }
      ]
    },
    {
      "cell_type": "code",
      "source": [
        "#contar o número de elementos da lista\n",
        "n = len(num)\n",
        "print(n)"
      ],
      "metadata": {
        "colab": {
          "base_uri": "https://localhost:8080/"
        },
        "id": "nKPn-0CwM5B7",
        "outputId": "bc618943-123b-4627-d43a-abfa8650374f"
      },
      "execution_count": null,
      "outputs": [
        {
          "output_type": "stream",
          "name": "stdout",
          "text": [
            "18\n"
          ]
        }
      ]
    },
    {
      "cell_type": "code",
      "source": [
        "#contar quantas vezes o número 1 aparece\n",
        "num_qtd_1 = num.count(1)\n",
        "print(num_qtd_1)"
      ],
      "metadata": {
        "colab": {
          "base_uri": "https://localhost:8080/"
        },
        "id": "fakf4cF0NFZg",
        "outputId": "1e363f85-f918-40b9-b3b3-607f9201dc7b"
      },
      "execution_count": null,
      "outputs": [
        {
          "output_type": "stream",
          "name": "stdout",
          "text": [
            "7\n"
          ]
        }
      ]
    },
    {
      "cell_type": "code",
      "source": [
        "bolsas = ['down','ibov','ftse','dax','nasdaq','cac']\n",
        "print(bolsas)\n",
        "print(len(bolsas))"
      ],
      "metadata": {
        "id": "S-NSmYXnttf_",
        "outputId": "c872bbb2-4ddc-4b54-e3ad-f29a71a83b22",
        "colab": {
          "base_uri": "https://localhost:8080/"
        }
      },
      "execution_count": null,
      "outputs": [
        {
          "output_type": "stream",
          "name": "stdout",
          "text": [
            "['down', 'ibov', 'ftse', 'dax', 'nasdaq', 'cac']\n",
            "6\n"
          ]
        }
      ]
    },
    {
      "cell_type": "code",
      "source": [
        "#selecionar os 3 primeiros itens\n",
        "tres_primeiros_itens = bolsas[0:3]\n",
        "print(tres_primeiros_itens)"
      ],
      "metadata": {
        "id": "u_PQtxdTvMFT",
        "outputId": "1ea144fc-b07f-400a-d0ea-842a9d2f590c",
        "colab": {
          "base_uri": "https://localhost:8080/"
        }
      },
      "execution_count": null,
      "outputs": [
        {
          "output_type": "stream",
          "name": "stdout",
          "text": [
            "['down', 'ibov', 'ftse']\n"
          ]
        }
      ]
    },
    {
      "cell_type": "code",
      "source": [
        "#incluir a sublista na lista\n",
        "sb = ['hong kon','nerval']\n",
        "print(sb)"
      ],
      "metadata": {
        "id": "PgrE2b-TvbFf",
        "outputId": "69428918-24e4-412c-9b17-6befb518ac40",
        "colab": {
          "base_uri": "https://localhost:8080/"
        }
      },
      "execution_count": null,
      "outputs": [
        {
          "output_type": "stream",
          "name": "stdout",
          "text": [
            "['hong kon', 'nerval']\n"
          ]
        }
      ]
    },
    {
      "cell_type": "code",
      "source": [
        "bolsas[0:3] = sb\n",
        "print(bolsas)"
      ],
      "metadata": {
        "id": "hjwoO7VEvy8o",
        "outputId": "920bf40e-ba82-44e1-f0d8-78827373633a",
        "colab": {
          "base_uri": "https://localhost:8080/"
        }
      },
      "execution_count": null,
      "outputs": [
        {
          "output_type": "stream",
          "name": "stdout",
          "text": [
            "['hong kon', 'nerval', 'dax', 'nasdaq', 'cac']\n"
          ]
        }
      ]
    },
    {
      "cell_type": "code",
      "source": [
        "#descobrir qual é o índice de NASDAQ\n",
        "print(bolsas[3])"
      ],
      "metadata": {
        "id": "jtR6EuDxwRuO",
        "outputId": "37167640-8dad-4b7d-af0a-1da34f829e66",
        "colab": {
          "base_uri": "https://localhost:8080/"
        }
      },
      "execution_count": null,
      "outputs": [
        {
          "output_type": "stream",
          "name": "stdout",
          "text": [
            "nasdaq\n"
          ]
        }
      ]
    },
    {
      "cell_type": "code",
      "source": [
        "#remover 'cac' da lista\n",
        "remover_cac = bolsas.remove('cac')\n",
        "print(remover_cac)\n",
        "print(bolsas)"
      ],
      "metadata": {
        "id": "hMpzO3LAxMIy",
        "outputId": "26347ce9-5f67-4ca4-f859-2f238759d1d4",
        "colab": {
          "base_uri": "https://localhost:8080/"
        }
      },
      "execution_count": null,
      "outputs": [
        {
          "output_type": "stream",
          "name": "stdout",
          "text": [
            "None\n",
            "['hong kon', 'nerval', 'dax', 'nasdaq']\n"
          ]
        }
      ]
    },
    {
      "cell_type": "code",
      "source": [
        "#inserir 'sp&500' na lista no índice 2\n",
        "sp500 = bolsas.insert(2,'Sp&500')\n",
        "print(sp500)\n",
        "print(bolsas)"
      ],
      "metadata": {
        "id": "1ROHhLiYyXa1",
        "outputId": "475b13b4-7711-4b1c-abf3-b4d37f3c5d0e",
        "colab": {
          "base_uri": "https://localhost:8080/"
        }
      },
      "execution_count": null,
      "outputs": [
        {
          "output_type": "stream",
          "name": "stdout",
          "text": [
            "None\n",
            "['hong kon', 'nerval', 'Sp&500', 'dax', 'nasdaq']\n"
          ]
        }
      ]
    },
    {
      "cell_type": "code",
      "source": [
        "lista =[2,2,3,3,3,-1,-1,-2,0,0,2,4,5,1,2,2,0,0,2,1,5,5,7,6,5,0,0]\n",
        "print(lista)"
      ],
      "metadata": {
        "id": "-4NH-SJY0cmW",
        "outputId": "9b7c7e71-6717-45a6-f6b6-8573f3529e51",
        "colab": {
          "base_uri": "https://localhost:8080/"
        }
      },
      "execution_count": null,
      "outputs": [
        {
          "output_type": "stream",
          "name": "stdout",
          "text": [
            "[2, 2, 3, 3, 3, -1, -1, -2, 0, 0, 2, 4, 5, 1, 2, 2, 0, 0, 2, 1, 5, 5, 7, 6, 5, 0, 0]\n"
          ]
        }
      ]
    },
    {
      "cell_type": "code",
      "source": [
        "#somar os elementos da lista\n",
        "soma = sum(lista)\n",
        "print(soma)"
      ],
      "metadata": {
        "id": "cqArmpLd0-Y5",
        "outputId": "5d3af279-67bd-4f72-ba82-03095f073972",
        "colab": {
          "base_uri": "https://localhost:8080/"
        }
      },
      "execution_count": null,
      "outputs": [
        {
          "output_type": "stream",
          "name": "stdout",
          "text": [
            "56\n"
          ]
        }
      ]
    },
    {
      "cell_type": "code",
      "source": [
        "#maximo\n",
        "max = max(lista)\n",
        "print(max)"
      ],
      "metadata": {
        "id": "WYC71cKL1wGE",
        "outputId": "fdaa1816-db9e-44a2-bdb0-2f7660116bef",
        "colab": {
          "base_uri": "https://localhost:8080/"
        }
      },
      "execution_count": null,
      "outputs": [
        {
          "output_type": "stream",
          "name": "stdout",
          "text": [
            "7\n"
          ]
        }
      ]
    },
    {
      "cell_type": "code",
      "source": [
        "#minimo\n",
        "min = min(lista)\n",
        "print(min)"
      ],
      "metadata": {
        "id": "pHCSzAiT17Uq",
        "outputId": "1238745a-1f45-4999-97d6-a133772e5bc5",
        "colab": {
          "base_uri": "https://localhost:8080/"
        }
      },
      "execution_count": null,
      "outputs": [
        {
          "output_type": "stream",
          "name": "stdout",
          "text": [
            "-2\n"
          ]
        }
      ]
    },
    {
      "cell_type": "code",
      "source": [
        "#media\n",
        "import statistics as st\n",
        "media = st.mean(lista)\n",
        "print(media)"
      ],
      "metadata": {
        "id": "RC-UsCUV2C7-",
        "outputId": "7913bea6-b50e-4cee-9d65-2c8e87430e7a",
        "colab": {
          "base_uri": "https://localhost:8080/"
        }
      },
      "execution_count": null,
      "outputs": [
        {
          "output_type": "stream",
          "name": "stdout",
          "text": [
            "2.074074074074074\n"
          ]
        }
      ]
    },
    {
      "cell_type": "code",
      "source": [
        "median = st.median(lista)\n",
        "print(median)"
      ],
      "metadata": {
        "id": "K7xAmZk63bqY",
        "outputId": "4c54bbec-bcc4-4eb4-a00f-433dca54f0ff",
        "colab": {
          "base_uri": "https://localhost:8080/"
        }
      },
      "execution_count": null,
      "outputs": [
        {
          "output_type": "stream",
          "name": "stdout",
          "text": [
            "2\n"
          ]
        }
      ]
    },
    {
      "cell_type": "code",
      "source": [
        "std = st.stdev(lista)\n",
        "print(std)"
      ],
      "metadata": {
        "id": "dMNqiPaZ3lui",
        "outputId": "ed35d952-3758-4d46-b1ed-38654b3d567e",
        "colab": {
          "base_uri": "https://localhost:8080/"
        }
      },
      "execution_count": null,
      "outputs": [
        {
          "output_type": "stream",
          "name": "stdout",
          "text": [
            "2.352182716704536\n"
          ]
        }
      ]
    },
    {
      "cell_type": "code",
      "source": [
        "contar_zero = lista.count(0)\n",
        "print(contar_zero)"
      ],
      "metadata": {
        "id": "Pyt9ZE-D4ZGm",
        "outputId": "8988011f-636b-4821-c060-140e29fa6b8b",
        "colab": {
          "base_uri": "https://localhost:8080/"
        }
      },
      "execution_count": null,
      "outputs": [
        {
          "output_type": "stream",
          "name": "stdout",
          "text": [
            "6\n"
          ]
        }
      ]
    },
    {
      "cell_type": "code",
      "source": [
        "contar_5=lista.count(5)\n",
        "print(contar_5)"
      ],
      "metadata": {
        "id": "wy7RFKG04lSq",
        "outputId": "f6d3cbbb-4186-49d3-9599-f4ad03093339",
        "colab": {
          "base_uri": "https://localhost:8080/"
        }
      },
      "execution_count": null,
      "outputs": [
        {
          "output_type": "stream",
          "name": "stdout",
          "text": [
            "4\n"
          ]
        }
      ]
    },
    {
      "cell_type": "code",
      "source": [
        "print(lista.sort(reverse=True))"
      ],
      "metadata": {
        "id": "lH-aNcOi4sFr",
        "outputId": "e9c05e6b-9d51-4397-e148-37ca5e810965",
        "colab": {
          "base_uri": "https://localhost:8080/"
        }
      },
      "execution_count": null,
      "outputs": [
        {
          "output_type": "stream",
          "name": "stdout",
          "text": [
            "None\n"
          ]
        }
      ]
    },
    {
      "cell_type": "code",
      "source": [
        "ret =[1.31,1.34,1.43,1.4,1.42,1.4,1.47,1.45,1.42,1.48,1.42,1.34,1.34,1.36,1.32,1.24,1.24,1.22,1.27,1.26]\n",
        "print(ret)"
      ],
      "metadata": {
        "id": "iKQ0zudcN7lJ",
        "outputId": "24a38e97-d070-4614-ede2-de8e1d32f08d",
        "colab": {
          "base_uri": "https://localhost:8080/"
        }
      },
      "execution_count": 39,
      "outputs": [
        {
          "output_type": "stream",
          "name": "stdout",
          "text": [
            "[1.31, 1.34, 1.43, 1.4, 1.42, 1.4, 1.47, 1.45, 1.42, 1.48, 1.42, 1.34, 1.34, 1.36, 1.32, 1.24, 1.24, 1.22, 1.27, 1.26]\n"
          ]
        }
      ]
    },
    {
      "cell_type": "code",
      "source": [
        "vetor = np.array(ret)\n",
        "print(vetor)"
      ],
      "metadata": {
        "id": "ODEaIdmLOLpw",
        "outputId": "f7b3a470-64f2-4726-bb95-479b7b9903a1",
        "colab": {
          "base_uri": "https://localhost:8080/"
        }
      },
      "execution_count": 40,
      "outputs": [
        {
          "output_type": "stream",
          "name": "stdout",
          "text": [
            "[1.31 1.34 1.43 1.4  1.42 1.4  1.47 1.45 1.42 1.48 1.42 1.34 1.34 1.36\n",
            " 1.32 1.24 1.24 1.22 1.27 1.26]\n"
          ]
        }
      ]
    },
    {
      "cell_type": "code",
      "source": [
        "#novo_vetor = np.expand_dims(vetor,axis=1)\n",
        "#print(novo_vetor)"
      ],
      "metadata": {
        "id": "SvtuGJMNTroW",
        "outputId": "49932f6e-a50d-45e0-bf48-b21e36b09274",
        "colab": {
          "base_uri": "https://localhost:8080/"
        }
      },
      "execution_count": 41,
      "outputs": [
        {
          "output_type": "stream",
          "name": "stdout",
          "text": [
            "[[1.31]\n",
            " [1.34]\n",
            " [1.43]\n",
            " [1.4 ]\n",
            " [1.42]\n",
            " [1.4 ]\n",
            " [1.47]\n",
            " [1.45]\n",
            " [1.42]\n",
            " [1.48]\n",
            " [1.42]\n",
            " [1.34]\n",
            " [1.34]\n",
            " [1.36]\n",
            " [1.32]\n",
            " [1.24]\n",
            " [1.24]\n",
            " [1.22]\n",
            " [1.27]\n",
            " [1.26]]\n"
          ]
        }
      ]
    },
    {
      "cell_type": "code",
      "source": [
        "#print(novo_vetor.shape)"
      ],
      "metadata": {
        "id": "d6HsBEJNUJUr",
        "outputId": "9619e68e-6a9d-4183-d6ad-274b82264823",
        "colab": {
          "base_uri": "https://localhost:8080/"
        }
      },
      "execution_count": null,
      "outputs": [
        {
          "output_type": "stream",
          "name": "stdout",
          "text": [
            "(20, 1)\n"
          ]
        }
      ]
    },
    {
      "cell_type": "code",
      "source": [
        "array2d=vetor[np.newaxis,:]\n",
        "print(array2d)"
      ],
      "metadata": {
        "id": "fAutwfSLVCEV",
        "outputId": "4dc90943-70a8-4234-92ad-e34f98e79508",
        "colab": {
          "base_uri": "https://localhost:8080/"
        }
      },
      "execution_count": 50,
      "outputs": [
        {
          "output_type": "stream",
          "name": "stdout",
          "text": [
            "[[1.31 1.34 1.43 1.4  1.42 1.4  1.47 1.45 1.42 1.48 1.42 1.34 1.34 1.36\n",
            "  1.32 1.24 1.24 1.22 1.27 1.26]]\n"
          ]
        }
      ]
    },
    {
      "cell_type": "code",
      "source": [
        "print(array2d.shape)"
      ],
      "metadata": {
        "id": "KScCEKX6VVJz",
        "outputId": "9f9d500f-a0d0-4fcf-a515-cda52af08d98",
        "colab": {
          "base_uri": "https://localhost:8080/"
        }
      },
      "execution_count": 51,
      "outputs": [
        {
          "output_type": "stream",
          "name": "stdout",
          "text": [
            "(1, 20)\n"
          ]
        }
      ]
    },
    {
      "cell_type": "code",
      "source": [
        "print(array2d[0:3])"
      ],
      "metadata": {
        "id": "BMw4d-74WGV5",
        "outputId": "197fec2b-0703-4d98-dc71-d8e24f074fb0",
        "colab": {
          "base_uri": "https://localhost:8080/"
        }
      },
      "execution_count": 56,
      "outputs": [
        {
          "output_type": "stream",
          "name": "stdout",
          "text": [
            "[[1.31 1.34 1.43 1.4  1.42 1.4  1.47 1.45 1.42 1.48 1.42 1.34 1.34 1.36\n",
            "  1.32 1.24 1.24 1.22 1.27 1.26]]\n"
          ]
        }
      ]
    },
    {
      "cell_type": "code",
      "source": [
        "retorno = (array2d[0:20]-array2d[0:19])/array2d[0:19]\n",
        "print(retorno)"
      ],
      "metadata": {
        "id": "Lz5DjUzVO9rC",
        "outputId": "0c03d108-4211-479b-a669-76f61af9102e",
        "colab": {
          "base_uri": "https://localhost:8080/"
        }
      },
      "execution_count": 52,
      "outputs": [
        {
          "output_type": "stream",
          "name": "stdout",
          "text": [
            "[[0. 0. 0. 0. 0. 0. 0. 0. 0. 0. 0. 0. 0. 0. 0. 0. 0. 0. 0. 0.]]\n"
          ]
        }
      ]
    }
  ]
}